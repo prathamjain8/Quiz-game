{
 "cells": [
  {
   "cell_type": "code",
   "execution_count": 1,
   "id": "4151ebfa",
   "metadata": {},
   "outputs": [
    {
     "name": "stdout",
     "output_type": "stream",
     "text": [
      "Welcome to this amazing quiz game!!\n",
      "\n",
      "Do you want to play the game (y/n): y\n",
      "What does CPU stands for? central processing unit\n",
      "Correct🎉🎉\n",
      "What does GPU stands for? graphics processing unit\n",
      "Correct🎉🎉\n",
      "What does RAM stands for? random access memory\n",
      "Correct🎉🎉\n",
      "What does PSU stands for? power supply\n",
      "Correct🎉🎉\n",
      "You Got 4 questions correct\n",
      "You Got 100.0% in your exam\n"
     ]
    }
   ],
   "source": [
    "print(\"Welcome to this amazing quiz game!!\")\n",
    "print()\n",
    "\n",
    "playing = input(\"Do you want to play the game (y/n): \")\n",
    "if playing.lower() == 'y':\n",
    "    game_on = True\n",
    "else:\n",
    "    game_on = False\n",
    "score = 0\n",
    "while game_on:\n",
    "    \n",
    "    question1 = input(\"What does CPU stands for? \")\n",
    "    if question1.lower() == \"central processing unit\":\n",
    "        print(\"Correct🎉🎉\")\n",
    "        score +=1\n",
    "    else:\n",
    "        print(\"Incorrect\")\n",
    "    \n",
    "    question1 = input(\"What does GPU stands for? \")\n",
    "    if question1.lower() == \"graphics processing unit\":\n",
    "        print(\"Correct🎉🎉\")\n",
    "        score +=1\n",
    "    else:\n",
    "        print(\"Incorrect\")\n",
    "    \n",
    "    question1 = input(\"What does RAM stands for? \")\n",
    "    if question1.lower() == \"random access memory\":\n",
    "        print(\"Correct🎉🎉\")\n",
    "        score +=1\n",
    "    else:\n",
    "        print(\"Incorrect\")\n",
    "    \n",
    "    question1 = input(\"What does PSU stands for? \")\n",
    "    if question1.lower() == \"power supply\":\n",
    "        print(\"Correct🎉🎉\")\n",
    "        score +=1\n",
    "        game_on = False\n",
    "    else:\n",
    "        print(\"Incorrect\")\n",
    "        game_on = False\n",
    "        \n",
    "print(\"You Got \" + str(score) + \" questions correct\")\n",
    "print(\"You Got \" + str((score/4)*100) + \"% in your exam\")"
   ]
  },
  {
   "cell_type": "code",
   "execution_count": null,
   "id": "3a790266",
   "metadata": {},
   "outputs": [],
   "source": []
  }
 ],
 "metadata": {
  "kernelspec": {
   "display_name": "Python 3 (ipykernel)",
   "language": "python",
   "name": "python3"
  },
  "language_info": {
   "codemirror_mode": {
    "name": "ipython",
    "version": 3
   },
   "file_extension": ".py",
   "mimetype": "text/x-python",
   "name": "python",
   "nbconvert_exporter": "python",
   "pygments_lexer": "ipython3",
   "version": "3.11.5"
  }
 },
 "nbformat": 4,
 "nbformat_minor": 5
}
